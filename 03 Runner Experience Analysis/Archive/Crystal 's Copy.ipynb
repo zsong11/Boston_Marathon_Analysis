{
 "cells": [
  {
   "cell_type": "code",
   "execution_count": 7,
   "metadata": {},
   "outputs": [],
   "source": [
    "# Dependencies and Setup\n",
    "import pandas as pd\n",
    "import numpy as np\n",
    "import matplotlib.pyplot as plt"
   ]
  },
  {
   "cell_type": "code",
   "execution_count": 8,
   "metadata": {},
   "outputs": [],
   "source": [
    "# File to Load\n",
    "path_2015 = \"../2015_df.csv\"\n",
    "path_2016 = \"../2016_df.csv\"\n",
    "path_2017 = \"../2017_df.csv\"\n",
    "\n",
    "# Read csv Data File and store into Pandas Data Frames\n",
    "runner_2015_df = pd.read_csv(path_2015)\n",
    "runner_2016_df = pd.read_csv(path_2016)\n",
    "runner_2017_df = pd.read_csv(path_2017)"
   ]
  },
  {
   "cell_type": "code",
   "execution_count": 9,
   "metadata": {},
   "outputs": [
    {
     "data": {
      "text/html": [
       "<div>\n",
       "<style scoped>\n",
       "    .dataframe tbody tr th:only-of-type {\n",
       "        vertical-align: middle;\n",
       "    }\n",
       "\n",
       "    .dataframe tbody tr th {\n",
       "        vertical-align: top;\n",
       "    }\n",
       "\n",
       "    .dataframe thead th {\n",
       "        text-align: right;\n",
       "    }\n",
       "</style>\n",
       "<table border=\"1\" class=\"dataframe\">\n",
       "  <thead>\n",
       "    <tr style=\"text-align: right;\">\n",
       "      <th></th>\n",
       "      <th>Name</th>\n",
       "      <th>Official Time</th>\n",
       "    </tr>\n",
       "  </thead>\n",
       "  <tbody>\n",
       "    <tr>\n",
       "      <th>0</th>\n",
       "      <td>Desisa, Lelisa</td>\n",
       "      <td>2:09:17</td>\n",
       "    </tr>\n",
       "    <tr>\n",
       "      <th>1</th>\n",
       "      <td>Tsegay, Yemane Adhane</td>\n",
       "      <td>2:09:48</td>\n",
       "    </tr>\n",
       "    <tr>\n",
       "      <th>2</th>\n",
       "      <td>Chebet, Wilson</td>\n",
       "      <td>2:10:22</td>\n",
       "    </tr>\n",
       "    <tr>\n",
       "      <th>3</th>\n",
       "      <td>Kipyego, Bernard</td>\n",
       "      <td>2:10:47</td>\n",
       "    </tr>\n",
       "    <tr>\n",
       "      <th>4</th>\n",
       "      <td>Korir, Wesley</td>\n",
       "      <td>2:10:49</td>\n",
       "    </tr>\n",
       "  </tbody>\n",
       "</table>\n",
       "</div>"
      ],
      "text/plain": [
       "                    Name Official Time\n",
       "0         Desisa, Lelisa       2:09:17\n",
       "1  Tsegay, Yemane Adhane       2:09:48\n",
       "2         Chebet, Wilson       2:10:22\n",
       "3       Kipyego, Bernard       2:10:47\n",
       "4          Korir, Wesley       2:10:49"
      ]
     },
     "execution_count": 9,
     "metadata": {},
     "output_type": "execute_result"
    }
   ],
   "source": [
    "runnertime_2015_df=runner_2015_df.loc[:,[\"Name\",\"Official Time\"]]\n",
    "runnertime_2015_df.head()"
   ]
  },
  {
   "cell_type": "code",
   "execution_count": 10,
   "metadata": {},
   "outputs": [
    {
     "data": {
      "text/html": [
       "<div>\n",
       "<style scoped>\n",
       "    .dataframe tbody tr th:only-of-type {\n",
       "        vertical-align: middle;\n",
       "    }\n",
       "\n",
       "    .dataframe tbody tr th {\n",
       "        vertical-align: top;\n",
       "    }\n",
       "\n",
       "    .dataframe thead th {\n",
       "        text-align: right;\n",
       "    }\n",
       "</style>\n",
       "<table border=\"1\" class=\"dataframe\">\n",
       "  <thead>\n",
       "    <tr style=\"text-align: right;\">\n",
       "      <th></th>\n",
       "      <th>Name</th>\n",
       "      <th>Official Time</th>\n",
       "    </tr>\n",
       "  </thead>\n",
       "  <tbody>\n",
       "    <tr>\n",
       "      <th>0</th>\n",
       "      <td>Hayle, Lemi Berhanu</td>\n",
       "      <td>2:12:45</td>\n",
       "    </tr>\n",
       "    <tr>\n",
       "      <th>1</th>\n",
       "      <td>Desisa, Lelisa</td>\n",
       "      <td>2:13:32</td>\n",
       "    </tr>\n",
       "    <tr>\n",
       "      <th>2</th>\n",
       "      <td>Tsegay, Yemane Adhane</td>\n",
       "      <td>2:14:02</td>\n",
       "    </tr>\n",
       "    <tr>\n",
       "      <th>3</th>\n",
       "      <td>Korir, Wesley</td>\n",
       "      <td>2:14:05</td>\n",
       "    </tr>\n",
       "    <tr>\n",
       "      <th>4</th>\n",
       "      <td>Lonyangata, Paul</td>\n",
       "      <td>2:15:45</td>\n",
       "    </tr>\n",
       "  </tbody>\n",
       "</table>\n",
       "</div>"
      ],
      "text/plain": [
       "                    Name Official Time\n",
       "0    Hayle, Lemi Berhanu       2:12:45\n",
       "1         Desisa, Lelisa       2:13:32\n",
       "2  Tsegay, Yemane Adhane       2:14:02\n",
       "3          Korir, Wesley       2:14:05\n",
       "4       Lonyangata, Paul       2:15:45"
      ]
     },
     "execution_count": 10,
     "metadata": {},
     "output_type": "execute_result"
    }
   ],
   "source": [
    "runnertime_2016_df=runner_2016_df.loc[:,[\"Name\",\"Official Time\"]]\n",
    "runnertime_2016_df.head()"
   ]
  },
  {
   "cell_type": "code",
   "execution_count": 11,
   "metadata": {},
   "outputs": [
    {
     "data": {
      "text/html": [
       "<div>\n",
       "<style scoped>\n",
       "    .dataframe tbody tr th:only-of-type {\n",
       "        vertical-align: middle;\n",
       "    }\n",
       "\n",
       "    .dataframe tbody tr th {\n",
       "        vertical-align: top;\n",
       "    }\n",
       "\n",
       "    .dataframe thead th {\n",
       "        text-align: right;\n",
       "    }\n",
       "</style>\n",
       "<table border=\"1\" class=\"dataframe\">\n",
       "  <thead>\n",
       "    <tr style=\"text-align: right;\">\n",
       "      <th></th>\n",
       "      <th>Name</th>\n",
       "      <th>Official Time</th>\n",
       "    </tr>\n",
       "  </thead>\n",
       "  <tbody>\n",
       "    <tr>\n",
       "      <th>0</th>\n",
       "      <td>Kirui, Geoffrey</td>\n",
       "      <td>2:09:37</td>\n",
       "    </tr>\n",
       "    <tr>\n",
       "      <th>1</th>\n",
       "      <td>Rupp, Galen</td>\n",
       "      <td>2:09:58</td>\n",
       "    </tr>\n",
       "    <tr>\n",
       "      <th>2</th>\n",
       "      <td>Osako, Suguru</td>\n",
       "      <td>2:10:28</td>\n",
       "    </tr>\n",
       "    <tr>\n",
       "      <th>3</th>\n",
       "      <td>Biwott, Shadrack</td>\n",
       "      <td>2:12:08</td>\n",
       "    </tr>\n",
       "    <tr>\n",
       "      <th>4</th>\n",
       "      <td>Chebet, Wilson</td>\n",
       "      <td>2:12:35</td>\n",
       "    </tr>\n",
       "  </tbody>\n",
       "</table>\n",
       "</div>"
      ],
      "text/plain": [
       "               Name Official Time\n",
       "0   Kirui, Geoffrey       2:09:37\n",
       "1       Rupp, Galen       2:09:58\n",
       "2     Osako, Suguru       2:10:28\n",
       "3  Biwott, Shadrack       2:12:08\n",
       "4    Chebet, Wilson       2:12:35"
      ]
     },
     "execution_count": 11,
     "metadata": {},
     "output_type": "execute_result"
    }
   ],
   "source": [
    "runnertime_2017_df=runner_2017_df.loc[:,[\"Name\",\"Official Time\"]]\n",
    "runnertime_2017_df.head()"
   ]
  },
  {
   "cell_type": "code",
   "execution_count": 12,
   "metadata": {},
   "outputs": [
    {
     "data": {
      "text/html": [
       "<div>\n",
       "<style scoped>\n",
       "    .dataframe tbody tr th:only-of-type {\n",
       "        vertical-align: middle;\n",
       "    }\n",
       "\n",
       "    .dataframe tbody tr th {\n",
       "        vertical-align: top;\n",
       "    }\n",
       "\n",
       "    .dataframe thead th {\n",
       "        text-align: right;\n",
       "    }\n",
       "</style>\n",
       "<table border=\"1\" class=\"dataframe\">\n",
       "  <thead>\n",
       "    <tr style=\"text-align: right;\">\n",
       "      <th></th>\n",
       "      <th>Name</th>\n",
       "      <th>Official Time_x</th>\n",
       "      <th>Official Time_y</th>\n",
       "    </tr>\n",
       "  </thead>\n",
       "  <tbody>\n",
       "    <tr>\n",
       "      <th>0</th>\n",
       "      <td>Desisa, Lelisa</td>\n",
       "      <td>2:09:17</td>\n",
       "      <td>2:13:32</td>\n",
       "    </tr>\n",
       "    <tr>\n",
       "      <th>1</th>\n",
       "      <td>Tsegay, Yemane Adhane</td>\n",
       "      <td>2:09:48</td>\n",
       "      <td>2:14:02</td>\n",
       "    </tr>\n",
       "    <tr>\n",
       "      <th>2</th>\n",
       "      <td>Korir, Wesley</td>\n",
       "      <td>2:10:49</td>\n",
       "      <td>2:14:05</td>\n",
       "    </tr>\n",
       "    <tr>\n",
       "      <th>3</th>\n",
       "      <td>Mercier, Christian</td>\n",
       "      <td>2:24:37</td>\n",
       "      <td>2:34:30</td>\n",
       "    </tr>\n",
       "    <tr>\n",
       "      <th>4</th>\n",
       "      <td>Boudalia, Said Sr.</td>\n",
       "      <td>2:24:49</td>\n",
       "      <td>2:27:41</td>\n",
       "    </tr>\n",
       "  </tbody>\n",
       "</table>\n",
       "</div>"
      ],
      "text/plain": [
       "                    Name Official Time_x Official Time_y\n",
       "0         Desisa, Lelisa         2:09:17         2:13:32\n",
       "1  Tsegay, Yemane Adhane         2:09:48         2:14:02\n",
       "2          Korir, Wesley         2:10:49         2:14:05\n",
       "3     Mercier, Christian         2:24:37         2:34:30\n",
       "4     Boudalia, Said Sr.         2:24:49         2:27:41"
      ]
     },
     "execution_count": 12,
     "metadata": {},
     "output_type": "execute_result"
    }
   ],
   "source": [
    "runnertime_20152016_df = pd.merge(runnertime_2015_df,runnertime_2016_df,on=\"Name\")\n",
    "runnertime_20162017_df = pd.merge(runnertime_2016_df,runnertime_2017_df,on=\"Name\")\n",
    "runnertime_20152017_df = pd.merge(runnertime_2015_df,runnertime_2017_df,on=\"Name\")\n",
    "runnertime_20152016_df.head()"
   ]
  },
  {
   "cell_type": "code",
   "execution_count": 13,
   "metadata": {},
   "outputs": [
    {
     "data": {
      "text/plain": [
       "Name               Desisa, LelisaTsegay, Yemane AdhaneKorir, Wesl...\n",
       "Official Time_x    2:09:172:09:482:10:492:24:372:24:492:25:092:25...\n",
       "Official Time_y    2:13:322:14:022:14:052:34:302:27:412:33:562:32...\n",
       "dtype: object"
      ]
     },
     "execution_count": 13,
     "metadata": {},
     "output_type": "execute_result"
    }
   ],
   "source": [
    "total_20152016 = runnertime_20152016_df.sum()\n",
    "total_20152016"
   ]
  },
  {
   "cell_type": "code",
   "execution_count": 14,
   "metadata": {},
   "outputs": [
    {
     "data": {
      "text/html": [
       "<div>\n",
       "<style scoped>\n",
       "    .dataframe tbody tr th:only-of-type {\n",
       "        vertical-align: middle;\n",
       "    }\n",
       "\n",
       "    .dataframe tbody tr th {\n",
       "        vertical-align: top;\n",
       "    }\n",
       "\n",
       "    .dataframe thead th {\n",
       "        text-align: right;\n",
       "    }\n",
       "</style>\n",
       "<table border=\"1\" class=\"dataframe\">\n",
       "  <thead>\n",
       "    <tr style=\"text-align: right;\">\n",
       "      <th></th>\n",
       "      <th>Name</th>\n",
       "      <th>Official Time_x</th>\n",
       "      <th>Official Time_y</th>\n",
       "      <th>time_difference_20152016</th>\n",
       "    </tr>\n",
       "  </thead>\n",
       "  <tbody>\n",
       "    <tr>\n",
       "      <th>0</th>\n",
       "      <td>Desisa, Lelisa</td>\n",
       "      <td>2:09:17</td>\n",
       "      <td>2:13:32</td>\n",
       "      <td></td>\n",
       "    </tr>\n",
       "    <tr>\n",
       "      <th>1</th>\n",
       "      <td>Tsegay, Yemane Adhane</td>\n",
       "      <td>2:09:48</td>\n",
       "      <td>2:14:02</td>\n",
       "      <td></td>\n",
       "    </tr>\n",
       "    <tr>\n",
       "      <th>2</th>\n",
       "      <td>Korir, Wesley</td>\n",
       "      <td>2:10:49</td>\n",
       "      <td>2:14:05</td>\n",
       "      <td></td>\n",
       "    </tr>\n",
       "    <tr>\n",
       "      <th>3</th>\n",
       "      <td>Mercier, Christian</td>\n",
       "      <td>2:24:37</td>\n",
       "      <td>2:34:30</td>\n",
       "      <td></td>\n",
       "    </tr>\n",
       "    <tr>\n",
       "      <th>4</th>\n",
       "      <td>Boudalia, Said Sr.</td>\n",
       "      <td>2:24:49</td>\n",
       "      <td>2:27:41</td>\n",
       "      <td></td>\n",
       "    </tr>\n",
       "  </tbody>\n",
       "</table>\n",
       "</div>"
      ],
      "text/plain": [
       "                    Name Official Time_x Official Time_y  \\\n",
       "0         Desisa, Lelisa         2:09:17         2:13:32   \n",
       "1  Tsegay, Yemane Adhane         2:09:48         2:14:02   \n",
       "2          Korir, Wesley         2:10:49         2:14:05   \n",
       "3     Mercier, Christian         2:24:37         2:34:30   \n",
       "4     Boudalia, Said Sr.         2:24:49         2:27:41   \n",
       "\n",
       "  time_difference_20152016  \n",
       "0                           \n",
       "1                           \n",
       "2                           \n",
       "3                           \n",
       "4                           "
      ]
     },
     "execution_count": 14,
     "metadata": {},
     "output_type": "execute_result"
    }
   ],
   "source": [
    "runnertime_20152016_df['time_difference_20152016'] = runnertime_20152016_df.apply(lambda _: '', axis=1)\n",
    "runnertime_20162017_df['time_difference_20152016'] = runnertime_20152016_df.apply(lambda _: '', axis=1)\n",
    "runnertime_20152017_df['time_difference_20152016'] = runnertime_20152016_df.apply(lambda _: '', axis=1)\n",
    "runnertime_20152016_df.head()"
   ]
  },
  {
   "cell_type": "code",
   "execution_count": 15,
   "metadata": {},
   "outputs": [],
   "source": [
    "def time_convert(x):\n",
    "   times = x.split(':')\n",
    "   return (3600*int(times[0])+60*int(times[1]))+int(times[2])"
   ]
  },
  {
   "cell_type": "code",
   "execution_count": 16,
   "metadata": {},
   "outputs": [
    {
     "data": {
      "text/html": [
       "<div>\n",
       "<style scoped>\n",
       "    .dataframe tbody tr th:only-of-type {\n",
       "        vertical-align: middle;\n",
       "    }\n",
       "\n",
       "    .dataframe tbody tr th {\n",
       "        vertical-align: top;\n",
       "    }\n",
       "\n",
       "    .dataframe thead th {\n",
       "        text-align: right;\n",
       "    }\n",
       "</style>\n",
       "<table border=\"1\" class=\"dataframe\">\n",
       "  <thead>\n",
       "    <tr style=\"text-align: right;\">\n",
       "      <th></th>\n",
       "      <th>Name</th>\n",
       "      <th>Official Time_x</th>\n",
       "      <th>Official Time_y</th>\n",
       "      <th>time_difference_20152016</th>\n",
       "      <th>Official Time_2015</th>\n",
       "      <th>Official Time_2017</th>\n",
       "      <th>time_difference_20152017</th>\n",
       "    </tr>\n",
       "  </thead>\n",
       "  <tbody>\n",
       "    <tr>\n",
       "      <th>0</th>\n",
       "      <td>Chebet, Wilson</td>\n",
       "      <td>2:10:22</td>\n",
       "      <td>2:12:35</td>\n",
       "      <td></td>\n",
       "      <td>7757</td>\n",
       "      <td>8012</td>\n",
       "      <td>255</td>\n",
       "    </tr>\n",
       "    <tr>\n",
       "      <th>1</th>\n",
       "      <td>Korir, Wesley</td>\n",
       "      <td>2:10:49</td>\n",
       "      <td>2:18:14</td>\n",
       "      <td></td>\n",
       "      <td>7788</td>\n",
       "      <td>8042</td>\n",
       "      <td>254</td>\n",
       "    </tr>\n",
       "    <tr>\n",
       "      <th>2</th>\n",
       "      <td>Keflezighi, Meb</td>\n",
       "      <td>2:12:42</td>\n",
       "      <td>2:17:00</td>\n",
       "      <td></td>\n",
       "      <td>7849</td>\n",
       "      <td>8045</td>\n",
       "      <td>196</td>\n",
       "    </tr>\n",
       "    <tr>\n",
       "      <th>3</th>\n",
       "      <td>Mercier, Christian</td>\n",
       "      <td>2:24:37</td>\n",
       "      <td>2:44:34</td>\n",
       "      <td></td>\n",
       "      <td>8677</td>\n",
       "      <td>9270</td>\n",
       "      <td>593</td>\n",
       "    </tr>\n",
       "    <tr>\n",
       "      <th>4</th>\n",
       "      <td>Boudalia, Said Sr.</td>\n",
       "      <td>2:24:49</td>\n",
       "      <td>2:30:11</td>\n",
       "      <td></td>\n",
       "      <td>8689</td>\n",
       "      <td>8861</td>\n",
       "      <td>172</td>\n",
       "    </tr>\n",
       "  </tbody>\n",
       "</table>\n",
       "</div>"
      ],
      "text/plain": [
       "                 Name Official Time_x Official Time_y  \\\n",
       "0      Chebet, Wilson         2:10:22         2:12:35   \n",
       "1       Korir, Wesley         2:10:49         2:18:14   \n",
       "2     Keflezighi, Meb         2:12:42         2:17:00   \n",
       "3  Mercier, Christian         2:24:37         2:44:34   \n",
       "4  Boudalia, Said Sr.         2:24:49         2:30:11   \n",
       "\n",
       "  time_difference_20152016  Official Time_2015  Official Time_2017  \\\n",
       "0                                         7757                8012   \n",
       "1                                         7788                8042   \n",
       "2                                         7849                8045   \n",
       "3                                         8677                9270   \n",
       "4                                         8689                8861   \n",
       "\n",
       "   time_difference_20152017  \n",
       "0                       255  \n",
       "1                       254  \n",
       "2                       196  \n",
       "3                       593  \n",
       "4                       172  "
      ]
     },
     "execution_count": 16,
     "metadata": {},
     "output_type": "execute_result"
    }
   ],
   "source": [
    "#compare the time with previous year ,if runtime difference a negative number, runner's performance improved.\n",
    "runnertime_20152016_df[\"Official Time_2015\"]=runnertime_20152016_df[\"Official Time_x\"].apply(time_convert)\n",
    "runnertime_20152016_df[\"Official Time_2016\"]=runnertime_20152016_df[\"Official Time_y\"].apply(time_convert)\n",
    "runnertime_20152016_df[\"time_difference_20152016\"] = runnertime_20152016_df[\"Official Time_2016\"]-runnertime_20152016_df[\"Official Time_2015\"]\n",
    "\n",
    "runnertime_20162017_df[\"Official Time_2016\"]=runnertime_20162017_df[\"Official Time_x\"].apply(time_convert)\n",
    "runnertime_20162017_df[\"Official Time_2017\"]=runnertime_20162017_df[\"Official Time_y\"].apply(time_convert)\n",
    "runnertime_20162017_df[\"time_difference_20162017\"] = runnertime_20162017_df[\"Official Time_2017\"]-runnertime_20162017_df[\"Official Time_2016\"]\n",
    "\n",
    "runnertime_20152017_df[\"Official Time_2015\"]=runnertime_20152016_df[\"Official Time_x\"].apply(time_convert)\n",
    "runnertime_20152017_df[\"Official Time_2017\"]=runnertime_20152016_df[\"Official Time_y\"].apply(time_convert)\n",
    "runnertime_20152017_df[\"time_difference_20152017\"] = runnertime_20152017_df[\"Official Time_2017\"]-runnertime_20152017_df[\"Official Time_2015\"]\n",
    "runnertime_20152017_df.head()"
   ]
  },
  {
   "cell_type": "code",
   "execution_count": 17,
   "metadata": {},
   "outputs": [
    {
     "data": {
      "text/html": [
       "<div>\n",
       "<style scoped>\n",
       "    .dataframe tbody tr th:only-of-type {\n",
       "        vertical-align: middle;\n",
       "    }\n",
       "\n",
       "    .dataframe tbody tr th {\n",
       "        vertical-align: top;\n",
       "    }\n",
       "\n",
       "    .dataframe thead th {\n",
       "        text-align: right;\n",
       "    }\n",
       "</style>\n",
       "<table border=\"1\" class=\"dataframe\">\n",
       "  <thead>\n",
       "    <tr style=\"text-align: right;\">\n",
       "      <th></th>\n",
       "      <th>Name</th>\n",
       "      <th>Official Time_x</th>\n",
       "      <th>Official Time_y</th>\n",
       "      <th>time_difference_20152016</th>\n",
       "      <th>Official Time_2015</th>\n",
       "      <th>Official Time_2017</th>\n",
       "      <th>time_difference_20152017</th>\n",
       "    </tr>\n",
       "  </thead>\n",
       "  <tbody>\n",
       "    <tr>\n",
       "      <th>0</th>\n",
       "      <td>Chebet, Wilson</td>\n",
       "      <td>2:10:22</td>\n",
       "      <td>2:12:35</td>\n",
       "      <td></td>\n",
       "      <td>7757</td>\n",
       "      <td>8012</td>\n",
       "      <td>255</td>\n",
       "    </tr>\n",
       "    <tr>\n",
       "      <th>1</th>\n",
       "      <td>Korir, Wesley</td>\n",
       "      <td>2:10:49</td>\n",
       "      <td>2:18:14</td>\n",
       "      <td></td>\n",
       "      <td>7788</td>\n",
       "      <td>8042</td>\n",
       "      <td>254</td>\n",
       "    </tr>\n",
       "    <tr>\n",
       "      <th>2</th>\n",
       "      <td>Keflezighi, Meb</td>\n",
       "      <td>2:12:42</td>\n",
       "      <td>2:17:00</td>\n",
       "      <td></td>\n",
       "      <td>7849</td>\n",
       "      <td>8045</td>\n",
       "      <td>196</td>\n",
       "    </tr>\n",
       "    <tr>\n",
       "      <th>3</th>\n",
       "      <td>Mercier, Christian</td>\n",
       "      <td>2:24:37</td>\n",
       "      <td>2:44:34</td>\n",
       "      <td></td>\n",
       "      <td>8677</td>\n",
       "      <td>9270</td>\n",
       "      <td>593</td>\n",
       "    </tr>\n",
       "    <tr>\n",
       "      <th>4</th>\n",
       "      <td>Boudalia, Said Sr.</td>\n",
       "      <td>2:24:49</td>\n",
       "      <td>2:30:11</td>\n",
       "      <td></td>\n",
       "      <td>8689</td>\n",
       "      <td>8861</td>\n",
       "      <td>172</td>\n",
       "    </tr>\n",
       "  </tbody>\n",
       "</table>\n",
       "</div>"
      ],
      "text/plain": [
       "                 Name Official Time_x Official Time_y  \\\n",
       "0      Chebet, Wilson         2:10:22         2:12:35   \n",
       "1       Korir, Wesley         2:10:49         2:18:14   \n",
       "2     Keflezighi, Meb         2:12:42         2:17:00   \n",
       "3  Mercier, Christian         2:24:37         2:44:34   \n",
       "4  Boudalia, Said Sr.         2:24:49         2:30:11   \n",
       "\n",
       "  time_difference_20152016  Official Time_2015  Official Time_2017  \\\n",
       "0                                         7757                8012   \n",
       "1                                         7788                8042   \n",
       "2                                         7849                8045   \n",
       "3                                         8677                9270   \n",
       "4                                         8689                8861   \n",
       "\n",
       "   time_difference_20152017  \n",
       "0                       255  \n",
       "1                       254  \n",
       "2                       196  \n",
       "3                       593  \n",
       "4                       172  "
      ]
     },
     "execution_count": 17,
     "metadata": {},
     "output_type": "execute_result"
    }
   ],
   "source": [
    "runnertime_20152017_df[\"Official Time_2015\"]=runnertime_20152016_df[\"Official Time_x\"].apply(time_convert)\n",
    "runnertime_20152017_df[\"Official Time_2017\"]=runnertime_20152016_df[\"Official Time_y\"].apply(time_convert)\n",
    "runnertime_20152017_df[\"time_difference_20152017\"] = runnertime_20152017_df[\"Official Time_2017\"]-runnertime_20152017_df[\"Official Time_2015\"]\n",
    "runnertime_20152017_df.head()"
   ]
  },
  {
   "cell_type": "code",
   "execution_count": 18,
   "metadata": {},
   "outputs": [
    {
     "data": {
      "text/plain": [
       "11944.207091469681"
      ]
     },
     "execution_count": 18,
     "metadata": {},
     "output_type": "execute_result"
    }
   ],
   "source": [
    "average_2015 = runnertime_20152017_df[\"Official Time_2015\"].mean()\n",
    "average_2015"
   ]
  },
  {
   "cell_type": "code",
   "execution_count": 19,
   "metadata": {},
   "outputs": [
    {
     "data": {
      "text/plain": [
       "13556.17057057057"
      ]
     },
     "execution_count": 19,
     "metadata": {},
     "output_type": "execute_result"
    }
   ],
   "source": [
    "average_2016 = runnertime_20162017_df[\"Official Time_2016\"].mean()\n",
    "average_2016"
   ]
  },
  {
   "cell_type": "code",
   "execution_count": 20,
   "metadata": {},
   "outputs": [
    {
     "data": {
      "text/plain": [
       "12704.183967112025"
      ]
     },
     "execution_count": 20,
     "metadata": {},
     "output_type": "execute_result"
    }
   ],
   "source": [
    "average_2017 = runnertime_20152017_df[\"Official Time_2017\"].mean()\n",
    "average_2017"
   ]
  },
  {
   "cell_type": "code",
   "execution_count": 40,
   "metadata": {},
   "outputs": [
    {
     "data": {
      "text/html": [
       "<div>\n",
       "<style scoped>\n",
       "    .dataframe tbody tr th:only-of-type {\n",
       "        vertical-align: middle;\n",
       "    }\n",
       "\n",
       "    .dataframe tbody tr th {\n",
       "        vertical-align: top;\n",
       "    }\n",
       "\n",
       "    .dataframe thead th {\n",
       "        text-align: right;\n",
       "    }\n",
       "</style>\n",
       "<table border=\"1\" class=\"dataframe\">\n",
       "  <thead>\n",
       "    <tr style=\"text-align: right;\">\n",
       "      <th></th>\n",
       "      <th>2015 Average Time</th>\n",
       "      <th>2016 Average Time</th>\n",
       "      <th>2017 Average Time</th>\n",
       "    </tr>\n",
       "  </thead>\n",
       "  <tbody>\n",
       "    <tr>\n",
       "      <th>0</th>\n",
       "      <td>11960.335443</td>\n",
       "      <td>13559.686298</td>\n",
       "      <td>12721.600506</td>\n",
       "    </tr>\n",
       "  </tbody>\n",
       "</table>\n",
       "</div>"
      ],
      "text/plain": [
       "   2015 Average Time  2016 Average Time  2017 Average Time\n",
       "0       11960.335443       13559.686298       12721.600506"
      ]
     },
     "execution_count": 40,
     "metadata": {},
     "output_type": "execute_result"
    }
   ],
   "source": [
    "average_201520162017_df = pd.DataFrame({\n",
    "    \"2015 Average Time\": [11960.335443037975],\n",
    "    \"2016 Average Time\": [13559.686297838589],\n",
    "    \"2017 Average Time\": [12721.600506329114]})\n",
    "average_201520162017_df"
   ]
  },
  {
   "cell_type": "code",
   "execution_count": 41,
   "metadata": {},
   "outputs": [
    {
     "data": {
      "image/png": "[encoded data removed]",
      "text/plain": [
       "<Figure size 432x288 with 1 Axes>"
      ]
     },
     "metadata": {},
     "output_type": "display_data"
    }
   ],
   "source": [
    "years = [2015,2016,2017]\n",
    "avg_time = [11960.335443,13559.686298,12721.600506]\n",
    "plt.scatter(years,avg_time , marker=\"o\", facecolors=\"red\", edgecolors=\"black\")\n",
    "plt.plot(years,avg_time)\n",
    "plt.ylim(0,15000)\n",
    "plt.xlim(2014,2018)\n",
    "plt.title(\"Runners Year v Time\")\n",
    "plt.xlabel(\"Year\")\n",
    "plt.ylabel(\"Avg Time (Seconds)\")\n",
    "plt.show()"
   ]
  },
  {
   "cell_type": "code",
   "execution_count": null,
   "metadata": {},
   "outputs": [],
   "source": []
  },
  {
   "cell_type": "code",
   "execution_count": 42,
   "metadata": {},
   "outputs": [
    {
     "name": "stdout",
     "output_type": "stream",
     "text": [
      "Name                 time_difference_20152016_sign\n",
      "Abanses, Jolene C    -1                               1\n",
      "Abber, Tracy          1                               1\n",
      "Abbott, Wendy        -1                               1\n",
      "Abdallah, Michael A   1                               1\n",
      "Abdulmassih, Tiana    1                               1\n",
      "Name: time_difference_20152016_sign, dtype: int64\n"
     ]
    }
   ],
   "source": [
    "runnertime_20152016_df['time_difference_20152016_sign'] = np.sign(runnertime_20152016_df.time_difference_20152016)\n",
    "runnertime_20152016_grouped_df=runnertime_20152016_df.groupby('Name').time_difference_20152016_sign.value_counts()\n",
    "print (runnertime_20152016_grouped_df.head())"
   ]
  },
  {
   "cell_type": "code",
   "execution_count": 43,
   "metadata": {},
   "outputs": [
    {
     "data": {
      "text/plain": [
       " 1    4203\n",
       "-1    1386\n",
       " 0       2\n",
       "Name: time_difference_20152016_sign, dtype: int64"
      ]
     },
     "execution_count": 43,
     "metadata": {},
     "output_type": "execute_result"
    }
   ],
   "source": [
    "# this will count \"1.0\" (positive change) and \"-1.0\" (negative change)\n",
    "pos_neg_df_20152016 = runnertime_20152016_df['time_difference_20152016_sign'].value_counts()\n",
    "pos_neg_df_20152016.head()"
   ]
  },
  {
   "cell_type": "code",
   "execution_count": 44,
   "metadata": {},
   "outputs": [
    {
     "name": "stdout",
     "output_type": "stream",
     "text": [
      "Name                 time_difference_20162017_sign\n",
      "Abanses, Jolene C     1                               1\n",
      "Abber, Tracy          1                               1\n",
      "Abbott, Patricia     -1                               1\n",
      "Abbott, Wendy        -1                               1\n",
      "Abdallah, Michael A  -1                               1\n",
      "Name: time_difference_20162017_sign, dtype: int64\n"
     ]
    }
   ],
   "source": [
    "runnertime_20162017_df['time_difference_20162017_sign'] = np.sign(runnertime_20162017_df.time_difference_20162017)\n",
    "runnertime_20162017_grouped_df=runnertime_20162017_df.groupby('Name').time_difference_20162017_sign.value_counts()\n",
    "print(runnertime_20162017_grouped_df.head())"
   ]
  },
  {
   "cell_type": "code",
   "execution_count": 45,
   "metadata": {},
   "outputs": [
    {
     "data": {
      "text/plain": [
       " 1    3158\n",
       "-1    1881\n",
       " 0       4\n",
       "Name: time_difference_20162017_sign, dtype: int64"
      ]
     },
     "execution_count": 45,
     "metadata": {},
     "output_type": "execute_result"
    }
   ],
   "source": [
    "pos_neg_df_20162017 = runnertime_20162017_df['time_difference_20162017_sign'].value_counts()\n",
    "pos_neg_df_20162017.head()"
   ]
  },
  {
   "cell_type": "code",
   "execution_count": 46,
   "metadata": {},
   "outputs": [
    {
     "data": {
      "text/plain": [
       "Name                 time_difference_20152016_sign\n",
       "Abanses, Jolene C    -1                               1\n",
       "Abber, Tracy          1                               1\n",
       "Abbott, Wendy        -1                               1\n",
       "Abdallah, Michael A   1                               1\n",
       "Abdulmassih, Tiana    1                               1\n",
       "Name: time_difference_20152016_sign, dtype: int64"
      ]
     },
     "execution_count": 46,
     "metadata": {},
     "output_type": "execute_result"
    }
   ],
   "source": [
    "runnertime_20152017_df['time_difference_20152017_sign'] = np.sign(runnertime_20152017_df.time_difference_20152017)\n",
    "runnertime_20152017_grouped_df=pd.DataFrame(runnertime_20152017_df.groupby('Name').time_difference_20152017_sign.value_counts())\n",
    "runnertime_20152016_grouped_df.head(5)"
   ]
  },
  {
   "cell_type": "code",
   "execution_count": 47,
   "metadata": {},
   "outputs": [
    {
     "data": {
      "text/plain": [
       " 1    3150\n",
       "-1     798\n",
       " 0       2\n",
       "Name: time_difference_20152017_sign, dtype: int64"
      ]
     },
     "execution_count": 47,
     "metadata": {},
     "output_type": "execute_result"
    }
   ],
   "source": [
    "pos_neg_df_20152017 = runnertime_20152017_df['time_difference_20152017_sign'].value_counts()\n",
    "pos_neg_df_20152017.head()"
   ]
  },
  {
   "cell_type": "code",
   "execution_count": 48,
   "metadata": {},
   "outputs": [],
   "source": [
    "#find the change is 2(not improved at all) and -2(all improved).\n"
   ]
  },
  {
   "cell_type": "code",
   "execution_count": 75,
   "metadata": {},
   "outputs": [
    {
     "data": {
      "text/plain": [
       "Text(0.5,1,'Runner Time 2015 vs.2016')"
      ]
     },
     "execution_count": 75,
     "metadata": {},
     "output_type": "execute_result"
    },
    {
     "data": {
      "image/png": "[encoded data removed]",
      "text/plain": [
       "<Figure size 432x288 with 1 Axes>"
      ]
     },
     "metadata": {},
     "output_type": "display_data"
    }
   ],
   "source": [
    "labels = [ \"Not Improved\",\"Improved\",\"No Change\"]\n",
    "sizes = [4203, 1386, 2]\n",
    "colors = [\"goldenrod\",\"navy\", \"orangered\"]\n",
    "explode = (0.1, 0, 0)\n",
    "plt.axis(\"equal\")\n",
    "plt.pie(sizes, explode=explode, labels=labels, colors=colors,\n",
    "        autopct=\"%1.1f%%\", shadow=True, startangle=140)\n",
    "plt.title(\"Runner Time 2015 vs.2016\")"
   ]
  },
  {
   "cell_type": "code",
   "execution_count": 76,
   "metadata": {},
   "outputs": [
    {
     "data": {
      "text/plain": [
       "Text(0.5,1,'Runner Time 2016 vs.2017')"
      ]
     },
     "execution_count": 76,
     "metadata": {},
     "output_type": "execute_result"
    },
    {
     "data": {
      "image/png": "[encoded data removed]",
      "text/plain": [
       "<Figure size 432x288 with 1 Axes>"
      ]
     },
     "metadata": {},
     "output_type": "display_data"
    }
   ],
   "source": [
    "labels = [ \"Not Improved\",\"Improved\",\"No Change\"]\n",
    "sizes = [3158, 1881, 4]\n",
    "colors = [\"goldenrod\",\"navy\", \"orangered\"]\n",
    "explode = (0.1, 0, 0)\n",
    "plt.axis(\"equal\")\n",
    "plt.pie(sizes, explode=explode, labels=labels, colors=colors,\n",
    "        autopct=\"%1.1f%%\", shadow=True, startangle=140)\n",
    "plt.title(\"Runner Time 2016 vs.2017\")"
   ]
  },
  {
   "cell_type": "code",
   "execution_count": 77,
   "metadata": {},
   "outputs": [
    {
     "data": {
      "text/plain": [
       "Text(0.5,1,'Runner Time 2015 vs.2017')"
      ]
     },
     "execution_count": 77,
     "metadata": {},
     "output_type": "execute_result"
    },
    {
     "data": {
      "image/png": "[encoded data removed]",
      "text/plain": [
       "<Figure size 432x288 with 1 Axes>"
      ]
     },
     "metadata": {},
     "output_type": "display_data"
    }
   ],
   "source": [
    "labels = [ \"Not Improved\",\"Improved\",\"No Change\"]\n",
    "sizes = [3150, 798, 2]\n",
    "colors = [\"goldenrod\",\"navy\", \"orangered\"]\n",
    "explode = (0.1, 0, 0)\n",
    "plt.axis(\"equal\")\n",
    "plt.pie(sizes, explode=explode, labels=labels, colors=colors,\n",
    "        autopct=\"%1.1f%%\", shadow=True, startangle=140)\n",
    "plt.title(\"Runner Time 2015 vs.2017\")"
   ]
  },
  {
   "cell_type": "code",
   "execution_count": 52,
   "metadata": {},
   "outputs": [
    {
     "ename": "KeyError",
     "evalue": "'Official Time_2016'",
     "output_type": "error",
     "traceback": [
      "\u001b[1;31m---------------------------------------------------------------------------\u001b[0m",
      "\u001b[1;31mTypeError\u001b[0m                                 Traceback (most recent call last)",
      "\u001b[1;32m~\\Anaconda3\\lib\\site-packages\\pandas\\core\\indexes\\base.py\u001b[0m in \u001b[0;36mget_value\u001b[1;34m(self, series, key)\u001b[0m\n\u001b[0;32m   3108\u001b[0m             \u001b[1;32mtry\u001b[0m\u001b[1;33m:\u001b[0m\u001b[1;33m\u001b[0m\u001b[0m\n\u001b[1;32m-> 3109\u001b[1;33m                 \u001b[1;32mreturn\u001b[0m \u001b[0mlibindex\u001b[0m\u001b[1;33m.\u001b[0m\u001b[0mget_value_box\u001b[0m\u001b[1;33m(\u001b[0m\u001b[0ms\u001b[0m\u001b[1;33m,\u001b[0m \u001b[0mkey\u001b[0m\u001b[1;33m)\u001b[0m\u001b[1;33m\u001b[0m\u001b[0m\n\u001b[0m\u001b[0;32m   3110\u001b[0m             \u001b[1;32mexcept\u001b[0m \u001b[0mIndexError\u001b[0m\u001b[1;33m:\u001b[0m\u001b[1;33m\u001b[0m\u001b[0m\n",
      "\u001b[1;32mpandas\\_libs\\index.pyx\u001b[0m in \u001b[0;36mpandas._libs.index.get_value_box\u001b[1;34m()\u001b[0m\n",
      "\u001b[1;32mpandas\\_libs\\index.pyx\u001b[0m in \u001b[0;36mpandas._libs.index.get_value_box\u001b[1;34m()\u001b[0m\n",
      "\u001b[1;31mTypeError\u001b[0m: 'str' object cannot be interpreted as an integer",
      "\nDuring handling of the above exception, another exception occurred:\n",
      "\u001b[1;31mKeyError\u001b[0m                                  Traceback (most recent call last)",
      "\u001b[1;32m<ipython-input-52-3818b56d989f>\u001b[0m in \u001b[0;36m<module>\u001b[1;34m()\u001b[0m\n\u001b[0;32m      3\u001b[0m     \u001b[0mnum\u001b[0m\u001b[1;33m+=\u001b[0m\u001b[1;36m1\u001b[0m\u001b[1;33m\u001b[0m\u001b[0m\n\u001b[0;32m      4\u001b[0m     \u001b[0mx\u001b[0m\u001b[1;33m=\u001b[0m \u001b[1;33m[\u001b[0m\u001b[1;36m2015\u001b[0m\u001b[1;33m,\u001b[0m\u001b[1;36m2017\u001b[0m\u001b[1;33m]\u001b[0m\u001b[1;33m\u001b[0m\u001b[0m\n\u001b[1;32m----> 5\u001b[1;33m     \u001b[0my\u001b[0m\u001b[1;33m=\u001b[0m\u001b[1;33m[\u001b[0m\u001b[0mrow\u001b[0m\u001b[1;33m[\u001b[0m\u001b[1;34m'Official Time_2015'\u001b[0m\u001b[1;33m]\u001b[0m\u001b[1;33m,\u001b[0m\u001b[0mrow\u001b[0m\u001b[1;33m[\u001b[0m\u001b[1;34m'Official Time_2016'\u001b[0m\u001b[1;33m]\u001b[0m\u001b[1;33m]\u001b[0m\u001b[1;33m\u001b[0m\u001b[0m\n\u001b[0m\u001b[0;32m      6\u001b[0m     \u001b[0mplt\u001b[0m\u001b[1;33m.\u001b[0m\u001b[0mplot\u001b[0m\u001b[1;33m(\u001b[0m\u001b[0mx\u001b[0m\u001b[1;33m,\u001b[0m\u001b[0my\u001b[0m\u001b[1;33m,\u001b[0m\u001b[0mmarker\u001b[0m\u001b[1;33m=\u001b[0m\u001b[1;34m''\u001b[0m\u001b[1;33m,\u001b[0m \u001b[0mlinewidth\u001b[0m\u001b[1;33m=\u001b[0m\u001b[1;36m1\u001b[0m\u001b[1;33m,\u001b[0m\u001b[0malpha\u001b[0m\u001b[1;33m=\u001b[0m\u001b[1;36m0.9\u001b[0m\u001b[1;33m,\u001b[0m \u001b[1;33m)\u001b[0m\u001b[1;33m\u001b[0m\u001b[0m\n\u001b[0;32m      7\u001b[0m     \u001b[0mplt\u001b[0m\u001b[1;33m.\u001b[0m\u001b[0mtitle\u001b[0m\u001b[1;33m(\u001b[0m\u001b[1;34m\"Runner Time 2015 vs.2016\"\u001b[0m\u001b[1;33m)\u001b[0m\u001b[1;33m\u001b[0m\u001b[0m\n",
      "\u001b[1;32m~\\Anaconda3\\lib\\site-packages\\pandas\\core\\series.py\u001b[0m in \u001b[0;36m__getitem__\u001b[1;34m(self, key)\u001b[0m\n\u001b[0;32m    764\u001b[0m         \u001b[0mkey\u001b[0m \u001b[1;33m=\u001b[0m \u001b[0mcom\u001b[0m\u001b[1;33m.\u001b[0m\u001b[0m_apply_if_callable\u001b[0m\u001b[1;33m(\u001b[0m\u001b[0mkey\u001b[0m\u001b[1;33m,\u001b[0m \u001b[0mself\u001b[0m\u001b[1;33m)\u001b[0m\u001b[1;33m\u001b[0m\u001b[0m\n\u001b[0;32m    765\u001b[0m         \u001b[1;32mtry\u001b[0m\u001b[1;33m:\u001b[0m\u001b[1;33m\u001b[0m\u001b[0m\n\u001b[1;32m--> 766\u001b[1;33m             \u001b[0mresult\u001b[0m \u001b[1;33m=\u001b[0m \u001b[0mself\u001b[0m\u001b[1;33m.\u001b[0m\u001b[0mindex\u001b[0m\u001b[1;33m.\u001b[0m\u001b[0mget_value\u001b[0m\u001b[1;33m(\u001b[0m\u001b[0mself\u001b[0m\u001b[1;33m,\u001b[0m \u001b[0mkey\u001b[0m\u001b[1;33m)\u001b[0m\u001b[1;33m\u001b[0m\u001b[0m\n\u001b[0m\u001b[0;32m    767\u001b[0m \u001b[1;33m\u001b[0m\u001b[0m\n\u001b[0;32m    768\u001b[0m             \u001b[1;32mif\u001b[0m \u001b[1;32mnot\u001b[0m \u001b[0mis_scalar\u001b[0m\u001b[1;33m(\u001b[0m\u001b[0mresult\u001b[0m\u001b[1;33m)\u001b[0m\u001b[1;33m:\u001b[0m\u001b[1;33m\u001b[0m\u001b[0m\n",
      "\u001b[1;32m~\\Anaconda3\\lib\\site-packages\\pandas\\core\\indexes\\base.py\u001b[0m in \u001b[0;36mget_value\u001b[1;34m(self, series, key)\u001b[0m\n\u001b[0;32m   3115\u001b[0m                     \u001b[1;32mraise\u001b[0m \u001b[0mInvalidIndexError\u001b[0m\u001b[1;33m(\u001b[0m\u001b[0mkey\u001b[0m\u001b[1;33m)\u001b[0m\u001b[1;33m\u001b[0m\u001b[0m\n\u001b[0;32m   3116\u001b[0m                 \u001b[1;32melse\u001b[0m\u001b[1;33m:\u001b[0m\u001b[1;33m\u001b[0m\u001b[0m\n\u001b[1;32m-> 3117\u001b[1;33m                     \u001b[1;32mraise\u001b[0m \u001b[0me1\u001b[0m\u001b[1;33m\u001b[0m\u001b[0m\n\u001b[0m\u001b[0;32m   3118\u001b[0m             \u001b[1;32mexcept\u001b[0m \u001b[0mException\u001b[0m\u001b[1;33m:\u001b[0m  \u001b[1;31m# pragma: no cover\u001b[0m\u001b[1;33m\u001b[0m\u001b[0m\n\u001b[0;32m   3119\u001b[0m                 \u001b[1;32mraise\u001b[0m \u001b[0me1\u001b[0m\u001b[1;33m\u001b[0m\u001b[0m\n",
      "\u001b[1;32m~\\Anaconda3\\lib\\site-packages\\pandas\\core\\indexes\\base.py\u001b[0m in \u001b[0;36mget_value\u001b[1;34m(self, series, key)\u001b[0m\n\u001b[0;32m   3101\u001b[0m         \u001b[1;32mtry\u001b[0m\u001b[1;33m:\u001b[0m\u001b[1;33m\u001b[0m\u001b[0m\n\u001b[0;32m   3102\u001b[0m             return self._engine.get_value(s, k,\n\u001b[1;32m-> 3103\u001b[1;33m                                           tz=getattr(series.dtype, 'tz', None))\n\u001b[0m\u001b[0;32m   3104\u001b[0m         \u001b[1;32mexcept\u001b[0m \u001b[0mKeyError\u001b[0m \u001b[1;32mas\u001b[0m \u001b[0me1\u001b[0m\u001b[1;33m:\u001b[0m\u001b[1;33m\u001b[0m\u001b[0m\n\u001b[0;32m   3105\u001b[0m             \u001b[1;32mif\u001b[0m \u001b[0mlen\u001b[0m\u001b[1;33m(\u001b[0m\u001b[0mself\u001b[0m\u001b[1;33m)\u001b[0m \u001b[1;33m>\u001b[0m \u001b[1;36m0\u001b[0m \u001b[1;32mand\u001b[0m \u001b[0mself\u001b[0m\u001b[1;33m.\u001b[0m\u001b[0minferred_type\u001b[0m \u001b[1;32min\u001b[0m \u001b[1;33m[\u001b[0m\u001b[1;34m'integer'\u001b[0m\u001b[1;33m,\u001b[0m \u001b[1;34m'boolean'\u001b[0m\u001b[1;33m]\u001b[0m\u001b[1;33m:\u001b[0m\u001b[1;33m\u001b[0m\u001b[0m\n",
      "\u001b[1;32mpandas\\_libs\\index.pyx\u001b[0m in \u001b[0;36mpandas._libs.index.IndexEngine.get_value\u001b[1;34m()\u001b[0m\n",
      "\u001b[1;32mpandas\\_libs\\index.pyx\u001b[0m in \u001b[0;36mpandas._libs.index.IndexEngine.get_value\u001b[1;34m()\u001b[0m\n",
      "\u001b[1;32mpandas\\_libs\\index.pyx\u001b[0m in \u001b[0;36mpandas._libs.index.IndexEngine.get_loc\u001b[1;34m()\u001b[0m\n",
      "\u001b[1;32mpandas\\_libs\\hashtable_class_helper.pxi\u001b[0m in \u001b[0;36mpandas._libs.hashtable.PyObjectHashTable.get_item\u001b[1;34m()\u001b[0m\n",
      "\u001b[1;32mpandas\\_libs\\hashtable_class_helper.pxi\u001b[0m in \u001b[0;36mpandas._libs.hashtable.PyObjectHashTable.get_item\u001b[1;34m()\u001b[0m\n",
      "\u001b[1;31mKeyError\u001b[0m: 'Official Time_2016'"
     ]
    }
   ],
   "source": [
    "num=0\n",
    "for index,row in runnertime_20152017_df.head(50).iterrows():\n",
    "    num+=1\n",
    "    x= [2015,2017]\n",
    "    y=[row['Official Time_2015'],row['Official Time_2016']]\n",
    "    plt.plot(x,y,marker='', linewidth=1,alpha=0.9, )\n",
    "    plt.title(\"Runner Time 2015 vs.2016\")\n",
    "plt.show()"
   ]
  },
  {
   "cell_type": "code",
   "execution_count": 193,
   "metadata": {},
   "outputs": [
    {
     "data": {
      "image/png": "[encoded data removed]",
      "text/plain": [
       "<Figure size 432x288 with 1 Axes>"
      ]
     },
     "metadata": {},
     "output_type": "display_data"
    }
   ],
   "source": [
    "num=0\n",
    "for index,row in runnertime_20152016_df.head(50).iterrows():\n",
    "    num+=1\n",
    "    x= [2015,2016]\n",
    "    y=[row['Official Time_2015'],row['Official Time_2016']]\n",
    "    plt.plot(x,y,marker='', linewidth=1,alpha=0.9, )\n",
    "    plt.title(\"Runner Time 2015 vs.2016\")\n",
    "plt.show()\n",
    "   "
   ]
  },
  {
   "cell_type": "code",
   "execution_count": 146,
   "metadata": {},
   "outputs": [
    {
     "data": {
      "image/png": "[encoded data removed]",
      "text/plain": [
       "<Figure size 432x288 with 1 Axes>"
      ]
     },
     "metadata": {},
     "output_type": "display_data"
    }
   ],
   "source": [
    "num=0\n",
    "for index,row in runnertime_20162017_df.head(50).iterrows():\n",
    "    num+=1\n",
    "    x=[2016,2017]\n",
    "    y=[row['Official Time_2016'],row['Official Time_2017']]\n",
    "    plt.plot(x,y,marker='', linewidth=1, alpha=0.9)    \n",
    "plt.show()"
   ]
  },
  {
   "cell_type": "code",
   "execution_count": 145,
   "metadata": {},
   "outputs": [
    {
     "data": {
      "image/png": "[encoded data removed]",
      "text/plain": [
       "<Figure size 432x288 with 1 Axes>"
      ]
     },
     "metadata": {},
     "output_type": "display_data"
    }
   ],
   "source": [
    "num=0\n",
    "for index,row in runnertime_20152017_df.head(50).iterrows():\n",
    "    num+=1\n",
    "    x=[2015,2017]\n",
    "    y=[row['Official Time_2015'],row['Official Time_2017']]\n",
    "    plt.plot(x,y,marker='', linewidth=1, alpha=0.9)    \n",
    "plt.show()"
   ]
  },
  {
   "cell_type": "code",
   "execution_count": 151,
   "metadata": {},
   "outputs": [],
   "source": [
    "#time_difference_201520162017_sign_df = pd.merge(runnertime_20152016_grouped_df,runnertime_20162017_grouped_df,on=\"Name\")\n",
    "#time_difference_201520162017_sign_df.head()"
   ]
  },
  {
   "cell_type": "code",
   "execution_count": 99,
   "metadata": {},
   "outputs": [
    {
     "data": {
      "text/html": [
       "<div>\n",
       "<style scoped>\n",
       "    .dataframe tbody tr th:only-of-type {\n",
       "        vertical-align: middle;\n",
       "    }\n",
       "\n",
       "    .dataframe tbody tr th {\n",
       "        vertical-align: top;\n",
       "    }\n",
       "\n",
       "    .dataframe thead th {\n",
       "        text-align: right;\n",
       "    }\n",
       "</style>\n",
       "<table border=\"1\" class=\"dataframe\">\n",
       "  <thead>\n",
       "    <tr style=\"text-align: right;\">\n",
       "      <th></th>\n",
       "      <th>Name</th>\n",
       "      <th>time_difference_20152016</th>\n",
       "      <th>time_difference_20162017</th>\n",
       "    </tr>\n",
       "  </thead>\n",
       "  <tbody>\n",
       "    <tr>\n",
       "      <th>0</th>\n",
       "      <td>Korir, Wesley</td>\n",
       "      <td>196</td>\n",
       "      <td>249</td>\n",
       "    </tr>\n",
       "    <tr>\n",
       "      <th>1</th>\n",
       "      <td>Mercier, Christian</td>\n",
       "      <td>593</td>\n",
       "      <td>604</td>\n",
       "    </tr>\n",
       "    <tr>\n",
       "      <th>2</th>\n",
       "      <td>Boudalia, Said Sr.</td>\n",
       "      <td>172</td>\n",
       "      <td>150</td>\n",
       "    </tr>\n",
       "    <tr>\n",
       "      <th>3</th>\n",
       "      <td>Deba, Buzunesh</td>\n",
       "      <td>527</td>\n",
       "      <td>-178</td>\n",
       "    </tr>\n",
       "    <tr>\n",
       "      <th>4</th>\n",
       "      <td>Ayr, Jason M.</td>\n",
       "      <td>450</td>\n",
       "      <td>-475</td>\n",
       "    </tr>\n",
       "  </tbody>\n",
       "</table>\n",
       "</div>"
      ],
      "text/plain": [
       "                 Name  time_difference_20152016  time_difference_20162017\n",
       "0       Korir, Wesley                       196                       249\n",
       "1  Mercier, Christian                       593                       604\n",
       "2  Boudalia, Said Sr.                       172                       150\n",
       "3      Deba, Buzunesh                       527                      -178\n",
       "4       Ayr, Jason M.                       450                      -475"
      ]
     },
     "execution_count": 99,
     "metadata": {},
     "output_type": "execute_result"
    }
   ],
   "source": [
    "runnertime_201520162017_df=runnertime_201520162017_df.loc[:,[\"Name\",\"time_difference_20152016\",\"time_difference_20162017\"]]\n",
    "runnertime_201520162017_df.head()"
   ]
  },
  {
   "cell_type": "code",
   "execution_count": 100,
   "metadata": {},
   "outputs": [
    {
     "data": {
      "text/html": [
       "<div>\n",
       "<style scoped>\n",
       "    .dataframe tbody tr th:only-of-type {\n",
       "        vertical-align: middle;\n",
       "    }\n",
       "\n",
       "    .dataframe tbody tr th {\n",
       "        vertical-align: top;\n",
       "    }\n",
       "\n",
       "    .dataframe thead th {\n",
       "        text-align: right;\n",
       "    }\n",
       "</style>\n",
       "<table border=\"1\" class=\"dataframe\">\n",
       "  <thead>\n",
       "    <tr style=\"text-align: right;\">\n",
       "      <th></th>\n",
       "      <th>Name</th>\n",
       "      <th>time_difference_20152016</th>\n",
       "      <th>time_difference_20162017</th>\n",
       "      <th>time_difference_201520162017</th>\n",
       "    </tr>\n",
       "  </thead>\n",
       "  <tbody>\n",
       "    <tr>\n",
       "      <th>0</th>\n",
       "      <td>Korir, Wesley</td>\n",
       "      <td>196</td>\n",
       "      <td>249</td>\n",
       "      <td></td>\n",
       "    </tr>\n",
       "    <tr>\n",
       "      <th>1</th>\n",
       "      <td>Mercier, Christian</td>\n",
       "      <td>593</td>\n",
       "      <td>604</td>\n",
       "      <td></td>\n",
       "    </tr>\n",
       "    <tr>\n",
       "      <th>2</th>\n",
       "      <td>Boudalia, Said Sr.</td>\n",
       "      <td>172</td>\n",
       "      <td>150</td>\n",
       "      <td></td>\n",
       "    </tr>\n",
       "    <tr>\n",
       "      <th>3</th>\n",
       "      <td>Deba, Buzunesh</td>\n",
       "      <td>527</td>\n",
       "      <td>-178</td>\n",
       "      <td></td>\n",
       "    </tr>\n",
       "    <tr>\n",
       "      <th>4</th>\n",
       "      <td>Ayr, Jason M.</td>\n",
       "      <td>450</td>\n",
       "      <td>-475</td>\n",
       "      <td></td>\n",
       "    </tr>\n",
       "  </tbody>\n",
       "</table>\n",
       "</div>"
      ],
      "text/plain": [
       "                 Name  time_difference_20152016  time_difference_20162017  \\\n",
       "0       Korir, Wesley                       196                       249   \n",
       "1  Mercier, Christian                       593                       604   \n",
       "2  Boudalia, Said Sr.                       172                       150   \n",
       "3      Deba, Buzunesh                       527                      -178   \n",
       "4       Ayr, Jason M.                       450                      -475   \n",
       "\n",
       "  time_difference_201520162017  \n",
       "0                               \n",
       "1                               \n",
       "2                               \n",
       "3                               \n",
       "4                               "
      ]
     },
     "execution_count": 100,
     "metadata": {},
     "output_type": "execute_result"
    }
   ],
   "source": [
    "runnertime_201520162017_df['time_difference_201520162017'] = runnertime_20152016_df.apply(lambda _: '', axis=1)\n",
    "runnertime_201520162017_df.head()"
   ]
  },
  {
   "cell_type": "code",
   "execution_count": 11,
   "metadata": {},
   "outputs": [],
   "source": [
    "runner_2017_df = runner_2017_df[(runner_2017_df[[\"Bib\",\"Name\",\"M/F\",\"5K\",\"10K\",\n",
    "                                                 \"15K\",\"20K\",\"25K\",\"30K\",\"35K\",\n",
    "                                                 \"40K\", \"Pace\",\"Official Time\", \n",
    "                                                 \"Overall\", \"Year\"]] != \"-\").all(axis=1)]"
   ]
  },
  {
   "cell_type": "code",
   "execution_count": 12,
   "metadata": {},
   "outputs": [],
   "source": [
    "runner_2016_df = runner_2016_df[(runner_2016_df[[\"Bib\",\"Name\",\"M/F\",\"5K\",\"10K\",\n",
    "                                                 \"15K\",\"20K\",\"25K\",\"30K\",\"35K\",\n",
    "                                                 \"40K\", \"Pace\",\"Official Time\", \n",
    "                                                 \"Overall\", \"Year\"]] != \"-\").all(axis=1)]\n"
   ]
  },
  {
   "cell_type": "code",
   "execution_count": 13,
   "metadata": {},
   "outputs": [],
   "source": [
    "runner_2015_df = runner_2015_df[(runner_2015_df[[\"Bib\",\"Name\",\"M/F\",\"5K\",\"10K\",\n",
    "                                                 \"15K\",\"20K\",\"25K\",\"30K\",\"35K\",\n",
    "                                                 \"40K\", \"Pace\",\"Official Time\", \n",
    "                                                 \"Overall\", \"Year\"]] != \"-\").all(axis=1)]"
   ]
  },
  {
   "cell_type": "code",
   "execution_count": 14,
   "metadata": {},
   "outputs": [],
   "source": [
    "# List of Data Frame to combine\n",
    "list_df = [runner_2015_df, runner_2016_df, runner_2017_df]\n",
    "\n",
    "final_runners_df = pd.concat(list_df)\n",
    "\n",
    "# Replace blank cell with NaN\n",
    "final_runners_df.replace(\"\", np.nan, inplace=True)\n",
    "\n",
    "# Drop NaN\n",
    "final_runners_df = final_runners_df.dropna(how=\"any\")"
   ]
  },
  {
   "cell_type": "code",
   "execution_count": 15,
   "metadata": {},
   "outputs": [],
   "source": [
    "# Export all Data Frame into csv files\n",
    "runner_2015_df.to_csv(\"2015_df.csv\")\n",
    "runner_2016_df.to_csv(\"2016_df.csv\")\n",
    "runner_2017_df.to_csv(\"2017_df.csv\")\n",
    "final_runners_df.to_csv(\"final_runners_df.csv\")"
   ]
  },
  {
   "cell_type": "code",
   "execution_count": 53,
   "metadata": {},
   "outputs": [
    {
     "data": {
      "text/html": [
       "<div>\n",
       "<style scoped>\n",
       "    .dataframe tbody tr th:only-of-type {\n",
       "        vertical-align: middle;\n",
       "    }\n",
       "\n",
       "    .dataframe tbody tr th {\n",
       "        vertical-align: top;\n",
       "    }\n",
       "\n",
       "    .dataframe thead th {\n",
       "        text-align: right;\n",
       "    }\n",
       "</style>\n",
       "<table border=\"1\" class=\"dataframe\">\n",
       "  <thead>\n",
       "    <tr style=\"text-align: right;\">\n",
       "      <th></th>\n",
       "      <th>Name</th>\n",
       "      <th>Official Time_x_x</th>\n",
       "      <th>Official Time_y_x</th>\n",
       "      <th>time_difference_20152016_x</th>\n",
       "      <th>Official Time_2015</th>\n",
       "      <th>Official Time_2016_x</th>\n",
       "      <th>time_difference_20152016_sign</th>\n",
       "      <th>Official Time_x_y</th>\n",
       "      <th>Official Time_y_y</th>\n",
       "      <th>time_difference_20152016_y</th>\n",
       "      <th>Official Time_2016_y</th>\n",
       "      <th>Official Time_2017</th>\n",
       "      <th>time_difference_20162017</th>\n",
       "      <th>time_difference_20162017_sign</th>\n",
       "    </tr>\n",
       "  </thead>\n",
       "  <tbody>\n",
       "    <tr>\n",
       "      <th>0</th>\n",
       "      <td>Korir, Wesley</td>\n",
       "      <td>2:10:49</td>\n",
       "      <td>2:14:05</td>\n",
       "      <td>196</td>\n",
       "      <td>7849</td>\n",
       "      <td>8045</td>\n",
       "      <td>1</td>\n",
       "      <td>2:14:05</td>\n",
       "      <td>2:18:14</td>\n",
       "      <td></td>\n",
       "      <td>8045</td>\n",
       "      <td>8294</td>\n",
       "      <td>249</td>\n",
       "      <td>1</td>\n",
       "    </tr>\n",
       "    <tr>\n",
       "      <th>1</th>\n",
       "      <td>Mercier, Christian</td>\n",
       "      <td>2:24:37</td>\n",
       "      <td>2:34:30</td>\n",
       "      <td>593</td>\n",
       "      <td>8677</td>\n",
       "      <td>9270</td>\n",
       "      <td>1</td>\n",
       "      <td>2:34:30</td>\n",
       "      <td>2:44:34</td>\n",
       "      <td></td>\n",
       "      <td>9270</td>\n",
       "      <td>9874</td>\n",
       "      <td>604</td>\n",
       "      <td>1</td>\n",
       "    </tr>\n",
       "    <tr>\n",
       "      <th>2</th>\n",
       "      <td>Boudalia, Said Sr.</td>\n",
       "      <td>2:24:49</td>\n",
       "      <td>2:27:41</td>\n",
       "      <td>172</td>\n",
       "      <td>8689</td>\n",
       "      <td>8861</td>\n",
       "      <td>1</td>\n",
       "      <td>2:27:41</td>\n",
       "      <td>2:30:11</td>\n",
       "      <td></td>\n",
       "      <td>8861</td>\n",
       "      <td>9011</td>\n",
       "      <td>150</td>\n",
       "      <td>1</td>\n",
       "    </tr>\n",
       "    <tr>\n",
       "      <th>3</th>\n",
       "      <td>Deba, Buzunesh</td>\n",
       "      <td>2:25:09</td>\n",
       "      <td>2:33:56</td>\n",
       "      <td>527</td>\n",
       "      <td>8709</td>\n",
       "      <td>9236</td>\n",
       "      <td>1</td>\n",
       "      <td>2:33:56</td>\n",
       "      <td>2:30:58</td>\n",
       "      <td></td>\n",
       "      <td>9236</td>\n",
       "      <td>9058</td>\n",
       "      <td>-178</td>\n",
       "      <td>-1</td>\n",
       "    </tr>\n",
       "    <tr>\n",
       "      <th>4</th>\n",
       "      <td>Ayr, Jason M.</td>\n",
       "      <td>2:25:14</td>\n",
       "      <td>2:32:44</td>\n",
       "      <td>450</td>\n",
       "      <td>8714</td>\n",
       "      <td>9164</td>\n",
       "      <td>1</td>\n",
       "      <td>2:32:44</td>\n",
       "      <td>2:24:49</td>\n",
       "      <td></td>\n",
       "      <td>9164</td>\n",
       "      <td>8689</td>\n",
       "      <td>-475</td>\n",
       "      <td>-1</td>\n",
       "    </tr>\n",
       "  </tbody>\n",
       "</table>\n",
       "</div>"
      ],
      "text/plain": [
       "                 Name Official Time_x_x Official Time_y_x  \\\n",
       "0       Korir, Wesley           2:10:49           2:14:05   \n",
       "1  Mercier, Christian           2:24:37           2:34:30   \n",
       "2  Boudalia, Said Sr.           2:24:49           2:27:41   \n",
       "3      Deba, Buzunesh           2:25:09           2:33:56   \n",
       "4       Ayr, Jason M.           2:25:14           2:32:44   \n",
       "\n",
       "   time_difference_20152016_x  Official Time_2015  Official Time_2016_x  \\\n",
       "0                         196                7849                  8045   \n",
       "1                         593                8677                  9270   \n",
       "2                         172                8689                  8861   \n",
       "3                         527                8709                  9236   \n",
       "4                         450                8714                  9164   \n",
       "\n",
       "   time_difference_20152016_sign Official Time_x_y Official Time_y_y  \\\n",
       "0                              1           2:14:05           2:18:14   \n",
       "1                              1           2:34:30           2:44:34   \n",
       "2                              1           2:27:41           2:30:11   \n",
       "3                              1           2:33:56           2:30:58   \n",
       "4                              1           2:32:44           2:24:49   \n",
       "\n",
       "  time_difference_20152016_y  Official Time_2016_y  Official Time_2017  \\\n",
       "0                                             8045                8294   \n",
       "1                                             9270                9874   \n",
       "2                                             8861                9011   \n",
       "3                                             9236                9058   \n",
       "4                                             9164                8689   \n",
       "\n",
       "   time_difference_20162017  time_difference_20162017_sign  \n",
       "0                       249                              1  \n",
       "1                       604                              1  \n",
       "2                       150                              1  \n",
       "3                      -178                             -1  \n",
       "4                      -475                             -1  "
      ]
     },
     "execution_count": 53,
     "metadata": {},
     "output_type": "execute_result"
    }
   ],
   "source": [
    "runnertime_20152016_2017_df = pd.merge(runnertime_20152016_df,runnertime_20162017_df,on=\"Name\")\n",
    "runnertime_20152016_2017_df.head()"
   ]
  },
  {
   "cell_type": "code",
   "execution_count": 54,
   "metadata": {},
   "outputs": [
    {
     "data": {
      "text/html": [
       "<div>\n",
       "<style scoped>\n",
       "    .dataframe tbody tr th:only-of-type {\n",
       "        vertical-align: middle;\n",
       "    }\n",
       "\n",
       "    .dataframe tbody tr th {\n",
       "        vertical-align: top;\n",
       "    }\n",
       "\n",
       "    .dataframe thead th {\n",
       "        text-align: right;\n",
       "    }\n",
       "</style>\n",
       "<table border=\"1\" class=\"dataframe\">\n",
       "  <thead>\n",
       "    <tr style=\"text-align: right;\">\n",
       "      <th></th>\n",
       "      <th>Name</th>\n",
       "      <th>Official Time_x_x</th>\n",
       "      <th>Official Time_y_x</th>\n",
       "      <th>time_difference_20152016_x</th>\n",
       "      <th>Official Time_2015_x</th>\n",
       "      <th>Official Time_2016_x</th>\n",
       "      <th>time_difference_20152016_sign</th>\n",
       "      <th>Official Time_x_y</th>\n",
       "      <th>Official Time_y_y</th>\n",
       "      <th>time_difference_20152016_y</th>\n",
       "      <th>...</th>\n",
       "      <th>Official Time_2017_x</th>\n",
       "      <th>time_difference_20162017</th>\n",
       "      <th>time_difference_20162017_sign</th>\n",
       "      <th>Official Time_x</th>\n",
       "      <th>Official Time_y</th>\n",
       "      <th>time_difference_20152016</th>\n",
       "      <th>Official Time_2015_y</th>\n",
       "      <th>Official Time_2017_y</th>\n",
       "      <th>time_difference_20152017</th>\n",
       "      <th>time_difference_20152017_sign</th>\n",
       "    </tr>\n",
       "  </thead>\n",
       "  <tbody>\n",
       "    <tr>\n",
       "      <th>0</th>\n",
       "      <td>Korir, Wesley</td>\n",
       "      <td>2:10:49</td>\n",
       "      <td>2:14:05</td>\n",
       "      <td>196</td>\n",
       "      <td>7849</td>\n",
       "      <td>8045</td>\n",
       "      <td>1</td>\n",
       "      <td>2:14:05</td>\n",
       "      <td>2:18:14</td>\n",
       "      <td></td>\n",
       "      <td>...</td>\n",
       "      <td>8294</td>\n",
       "      <td>249</td>\n",
       "      <td>1</td>\n",
       "      <td>2:10:49</td>\n",
       "      <td>2:18:14</td>\n",
       "      <td></td>\n",
       "      <td>7788</td>\n",
       "      <td>8042</td>\n",
       "      <td>254</td>\n",
       "      <td>1</td>\n",
       "    </tr>\n",
       "    <tr>\n",
       "      <th>1</th>\n",
       "      <td>Mercier, Christian</td>\n",
       "      <td>2:24:37</td>\n",
       "      <td>2:34:30</td>\n",
       "      <td>593</td>\n",
       "      <td>8677</td>\n",
       "      <td>9270</td>\n",
       "      <td>1</td>\n",
       "      <td>2:34:30</td>\n",
       "      <td>2:44:34</td>\n",
       "      <td></td>\n",
       "      <td>...</td>\n",
       "      <td>9874</td>\n",
       "      <td>604</td>\n",
       "      <td>1</td>\n",
       "      <td>2:24:37</td>\n",
       "      <td>2:44:34</td>\n",
       "      <td></td>\n",
       "      <td>8677</td>\n",
       "      <td>9270</td>\n",
       "      <td>593</td>\n",
       "      <td>1</td>\n",
       "    </tr>\n",
       "    <tr>\n",
       "      <th>2</th>\n",
       "      <td>Boudalia, Said Sr.</td>\n",
       "      <td>2:24:49</td>\n",
       "      <td>2:27:41</td>\n",
       "      <td>172</td>\n",
       "      <td>8689</td>\n",
       "      <td>8861</td>\n",
       "      <td>1</td>\n",
       "      <td>2:27:41</td>\n",
       "      <td>2:30:11</td>\n",
       "      <td></td>\n",
       "      <td>...</td>\n",
       "      <td>9011</td>\n",
       "      <td>150</td>\n",
       "      <td>1</td>\n",
       "      <td>2:24:49</td>\n",
       "      <td>2:30:11</td>\n",
       "      <td></td>\n",
       "      <td>8689</td>\n",
       "      <td>8861</td>\n",
       "      <td>172</td>\n",
       "      <td>1</td>\n",
       "    </tr>\n",
       "    <tr>\n",
       "      <th>3</th>\n",
       "      <td>Deba, Buzunesh</td>\n",
       "      <td>2:25:09</td>\n",
       "      <td>2:33:56</td>\n",
       "      <td>527</td>\n",
       "      <td>8709</td>\n",
       "      <td>9236</td>\n",
       "      <td>1</td>\n",
       "      <td>2:33:56</td>\n",
       "      <td>2:30:58</td>\n",
       "      <td></td>\n",
       "      <td>...</td>\n",
       "      <td>9058</td>\n",
       "      <td>-178</td>\n",
       "      <td>-1</td>\n",
       "      <td>2:25:09</td>\n",
       "      <td>2:30:58</td>\n",
       "      <td></td>\n",
       "      <td>8709</td>\n",
       "      <td>9236</td>\n",
       "      <td>527</td>\n",
       "      <td>1</td>\n",
       "    </tr>\n",
       "    <tr>\n",
       "      <th>4</th>\n",
       "      <td>Ayr, Jason M.</td>\n",
       "      <td>2:25:14</td>\n",
       "      <td>2:32:44</td>\n",
       "      <td>450</td>\n",
       "      <td>8714</td>\n",
       "      <td>9164</td>\n",
       "      <td>1</td>\n",
       "      <td>2:32:44</td>\n",
       "      <td>2:24:49</td>\n",
       "      <td></td>\n",
       "      <td>...</td>\n",
       "      <td>8689</td>\n",
       "      <td>-475</td>\n",
       "      <td>-1</td>\n",
       "      <td>2:25:14</td>\n",
       "      <td>2:24:49</td>\n",
       "      <td></td>\n",
       "      <td>8714</td>\n",
       "      <td>9164</td>\n",
       "      <td>450</td>\n",
       "      <td>1</td>\n",
       "    </tr>\n",
       "  </tbody>\n",
       "</table>\n",
       "<p>5 rows × 21 columns</p>\n",
       "</div>"
      ],
      "text/plain": [
       "                 Name Official Time_x_x Official Time_y_x  \\\n",
       "0       Korir, Wesley           2:10:49           2:14:05   \n",
       "1  Mercier, Christian           2:24:37           2:34:30   \n",
       "2  Boudalia, Said Sr.           2:24:49           2:27:41   \n",
       "3      Deba, Buzunesh           2:25:09           2:33:56   \n",
       "4       Ayr, Jason M.           2:25:14           2:32:44   \n",
       "\n",
       "   time_difference_20152016_x  Official Time_2015_x  Official Time_2016_x  \\\n",
       "0                         196                  7849                  8045   \n",
       "1                         593                  8677                  9270   \n",
       "2                         172                  8689                  8861   \n",
       "3                         527                  8709                  9236   \n",
       "4                         450                  8714                  9164   \n",
       "\n",
       "   time_difference_20152016_sign Official Time_x_y Official Time_y_y  \\\n",
       "0                              1           2:14:05           2:18:14   \n",
       "1                              1           2:34:30           2:44:34   \n",
       "2                              1           2:27:41           2:30:11   \n",
       "3                              1           2:33:56           2:30:58   \n",
       "4                              1           2:32:44           2:24:49   \n",
       "\n",
       "  time_difference_20152016_y              ...                \\\n",
       "0                                         ...                 \n",
       "1                                         ...                 \n",
       "2                                         ...                 \n",
       "3                                         ...                 \n",
       "4                                         ...                 \n",
       "\n",
       "   Official Time_2017_x  time_difference_20162017  \\\n",
       "0                  8294                       249   \n",
       "1                  9874                       604   \n",
       "2                  9011                       150   \n",
       "3                  9058                      -178   \n",
       "4                  8689                      -475   \n",
       "\n",
       "   time_difference_20162017_sign  Official Time_x Official Time_y  \\\n",
       "0                              1          2:10:49         2:18:14   \n",
       "1                              1          2:24:37         2:44:34   \n",
       "2                              1          2:24:49         2:30:11   \n",
       "3                             -1          2:25:09         2:30:58   \n",
       "4                             -1          2:25:14         2:24:49   \n",
       "\n",
       "  time_difference_20152016 Official Time_2015_y  Official Time_2017_y  \\\n",
       "0                                          7788                  8042   \n",
       "1                                          8677                  9270   \n",
       "2                                          8689                  8861   \n",
       "3                                          8709                  9236   \n",
       "4                                          8714                  9164   \n",
       "\n",
       "   time_difference_20152017  time_difference_20152017_sign  \n",
       "0                       254                              1  \n",
       "1                       593                              1  \n",
       "2                       172                              1  \n",
       "3                       527                              1  \n",
       "4                       450                              1  \n",
       "\n",
       "[5 rows x 21 columns]"
      ]
     },
     "execution_count": 54,
     "metadata": {},
     "output_type": "execute_result"
    }
   ],
   "source": [
    "runnertime_201520162017_df = pd.merge(runnertime_20152016_2017_df,runnertime_20152017_df,on=\"Name\")\n",
    "runnertime_201520162017_df.head()"
   ]
  },
  {
   "cell_type": "code",
   "execution_count": 55,
   "metadata": {},
   "outputs": [
    {
     "data": {
      "text/html": [
       "<div>\n",
       "<style scoped>\n",
       "    .dataframe tbody tr th:only-of-type {\n",
       "        vertical-align: middle;\n",
       "    }\n",
       "\n",
       "    .dataframe tbody tr th {\n",
       "        vertical-align: top;\n",
       "    }\n",
       "\n",
       "    .dataframe thead th {\n",
       "        text-align: right;\n",
       "    }\n",
       "</style>\n",
       "<table border=\"1\" class=\"dataframe\">\n",
       "  <thead>\n",
       "    <tr style=\"text-align: right;\">\n",
       "      <th></th>\n",
       "      <th>Name</th>\n",
       "      <th>time_difference_20152016_sign</th>\n",
       "      <th>time_difference_20162017_sign</th>\n",
       "    </tr>\n",
       "  </thead>\n",
       "  <tbody>\n",
       "    <tr>\n",
       "      <th>0</th>\n",
       "      <td>Korir, Wesley</td>\n",
       "      <td>1</td>\n",
       "      <td>1</td>\n",
       "    </tr>\n",
       "    <tr>\n",
       "      <th>1</th>\n",
       "      <td>Mercier, Christian</td>\n",
       "      <td>1</td>\n",
       "      <td>1</td>\n",
       "    </tr>\n",
       "    <tr>\n",
       "      <th>2</th>\n",
       "      <td>Boudalia, Said Sr.</td>\n",
       "      <td>1</td>\n",
       "      <td>1</td>\n",
       "    </tr>\n",
       "    <tr>\n",
       "      <th>3</th>\n",
       "      <td>Deba, Buzunesh</td>\n",
       "      <td>1</td>\n",
       "      <td>-1</td>\n",
       "    </tr>\n",
       "    <tr>\n",
       "      <th>4</th>\n",
       "      <td>Ayr, Jason M.</td>\n",
       "      <td>1</td>\n",
       "      <td>-1</td>\n",
       "    </tr>\n",
       "    <tr>\n",
       "      <th>5</th>\n",
       "      <td>Varner, Alexander</td>\n",
       "      <td>1</td>\n",
       "      <td>-1</td>\n",
       "    </tr>\n",
       "    <tr>\n",
       "      <th>6</th>\n",
       "      <td>Ornelas, Zachary</td>\n",
       "      <td>1</td>\n",
       "      <td>-1</td>\n",
       "    </tr>\n",
       "    <tr>\n",
       "      <th>7</th>\n",
       "      <td>Ohara, Chip</td>\n",
       "      <td>1</td>\n",
       "      <td>1</td>\n",
       "    </tr>\n",
       "    <tr>\n",
       "      <th>8</th>\n",
       "      <td>Huberty, Bryan</td>\n",
       "      <td>1</td>\n",
       "      <td>1</td>\n",
       "    </tr>\n",
       "    <tr>\n",
       "      <th>9</th>\n",
       "      <td>Bond, Robert J.</td>\n",
       "      <td>-1</td>\n",
       "      <td>1</td>\n",
       "    </tr>\n",
       "    <tr>\n",
       "      <th>10</th>\n",
       "      <td>Vangampleare, Stephen</td>\n",
       "      <td>-1</td>\n",
       "      <td>-1</td>\n",
       "    </tr>\n",
       "    <tr>\n",
       "      <th>11</th>\n",
       "      <td>Ash, Alan</td>\n",
       "      <td>-1</td>\n",
       "      <td>1</td>\n",
       "    </tr>\n",
       "    <tr>\n",
       "      <th>12</th>\n",
       "      <td>Hyland, Sean P.</td>\n",
       "      <td>1</td>\n",
       "      <td>-1</td>\n",
       "    </tr>\n",
       "    <tr>\n",
       "      <th>13</th>\n",
       "      <td>Donaghy, Roger</td>\n",
       "      <td>1</td>\n",
       "      <td>-1</td>\n",
       "    </tr>\n",
       "    <tr>\n",
       "      <th>14</th>\n",
       "      <td>Autrey, Jonathan</td>\n",
       "      <td>1</td>\n",
       "      <td>-1</td>\n",
       "    </tr>\n",
       "    <tr>\n",
       "      <th>15</th>\n",
       "      <td>White, Alex</td>\n",
       "      <td>1</td>\n",
       "      <td>1</td>\n",
       "    </tr>\n",
       "    <tr>\n",
       "      <th>16</th>\n",
       "      <td>Taylor, Trent A</td>\n",
       "      <td>1</td>\n",
       "      <td>1</td>\n",
       "    </tr>\n",
       "    <tr>\n",
       "      <th>17</th>\n",
       "      <td>Asher, Bobby</td>\n",
       "      <td>1</td>\n",
       "      <td>1</td>\n",
       "    </tr>\n",
       "    <tr>\n",
       "      <th>18</th>\n",
       "      <td>Engtrakul, Chaiwat</td>\n",
       "      <td>-1</td>\n",
       "      <td>-1</td>\n",
       "    </tr>\n",
       "    <tr>\n",
       "      <th>19</th>\n",
       "      <td>Roberts, Duncan</td>\n",
       "      <td>1</td>\n",
       "      <td>-1</td>\n",
       "    </tr>\n",
       "  </tbody>\n",
       "</table>\n",
       "</div>"
      ],
      "text/plain": [
       "                     Name  time_difference_20152016_sign  \\\n",
       "0           Korir, Wesley                              1   \n",
       "1      Mercier, Christian                              1   \n",
       "2      Boudalia, Said Sr.                              1   \n",
       "3          Deba, Buzunesh                              1   \n",
       "4           Ayr, Jason M.                              1   \n",
       "5       Varner, Alexander                              1   \n",
       "6        Ornelas, Zachary                              1   \n",
       "7             Ohara, Chip                              1   \n",
       "8          Huberty, Bryan                              1   \n",
       "9         Bond, Robert J.                             -1   \n",
       "10  Vangampleare, Stephen                             -1   \n",
       "11              Ash, Alan                             -1   \n",
       "12        Hyland, Sean P.                              1   \n",
       "13         Donaghy, Roger                              1   \n",
       "14       Autrey, Jonathan                              1   \n",
       "15            White, Alex                              1   \n",
       "16        Taylor, Trent A                              1   \n",
       "17           Asher, Bobby                              1   \n",
       "18     Engtrakul, Chaiwat                             -1   \n",
       "19        Roberts, Duncan                              1   \n",
       "\n",
       "    time_difference_20162017_sign  \n",
       "0                               1  \n",
       "1                               1  \n",
       "2                               1  \n",
       "3                              -1  \n",
       "4                              -1  \n",
       "5                              -1  \n",
       "6                              -1  \n",
       "7                               1  \n",
       "8                               1  \n",
       "9                               1  \n",
       "10                             -1  \n",
       "11                              1  \n",
       "12                             -1  \n",
       "13                             -1  \n",
       "14                             -1  \n",
       "15                              1  \n",
       "16                              1  \n",
       "17                              1  \n",
       "18                             -1  \n",
       "19                             -1  "
      ]
     },
     "execution_count": 55,
     "metadata": {},
     "output_type": "execute_result"
    }
   ],
   "source": [
    "runnertime_df=runnertime_201520162017_df.loc[:,[\"Name\",\"time_difference_20152016_sign\",\"time_difference_20162017_sign\"]]\n",
    "runnertime_df.head(20)"
   ]
  },
  {
   "cell_type": "code",
   "execution_count": 57,
   "metadata": {},
   "outputs": [
    {
     "data": {
      "text/html": [
       "<div>\n",
       "<style scoped>\n",
       "    .dataframe tbody tr th:only-of-type {\n",
       "        vertical-align: middle;\n",
       "    }\n",
       "\n",
       "    .dataframe tbody tr th {\n",
       "        vertical-align: top;\n",
       "    }\n",
       "\n",
       "    .dataframe thead th {\n",
       "        text-align: right;\n",
       "    }\n",
       "</style>\n",
       "<table border=\"1\" class=\"dataframe\">\n",
       "  <thead>\n",
       "    <tr style=\"text-align: right;\">\n",
       "      <th></th>\n",
       "      <th>Name</th>\n",
       "      <th>time_difference_20152016_sign</th>\n",
       "      <th>time_difference_20162017_sign</th>\n",
       "      <th>sign_count</th>\n",
       "    </tr>\n",
       "  </thead>\n",
       "  <tbody>\n",
       "    <tr>\n",
       "      <th>0</th>\n",
       "      <td>Korir, Wesley</td>\n",
       "      <td>1</td>\n",
       "      <td>1</td>\n",
       "      <td></td>\n",
       "    </tr>\n",
       "    <tr>\n",
       "      <th>1</th>\n",
       "      <td>Mercier, Christian</td>\n",
       "      <td>1</td>\n",
       "      <td>1</td>\n",
       "      <td></td>\n",
       "    </tr>\n",
       "    <tr>\n",
       "      <th>2</th>\n",
       "      <td>Boudalia, Said Sr.</td>\n",
       "      <td>1</td>\n",
       "      <td>1</td>\n",
       "      <td></td>\n",
       "    </tr>\n",
       "    <tr>\n",
       "      <th>3</th>\n",
       "      <td>Deba, Buzunesh</td>\n",
       "      <td>1</td>\n",
       "      <td>-1</td>\n",
       "      <td></td>\n",
       "    </tr>\n",
       "    <tr>\n",
       "      <th>4</th>\n",
       "      <td>Ayr, Jason M.</td>\n",
       "      <td>1</td>\n",
       "      <td>-1</td>\n",
       "      <td></td>\n",
       "    </tr>\n",
       "  </tbody>\n",
       "</table>\n",
       "</div>"
      ],
      "text/plain": [
       "                 Name  time_difference_20152016_sign  \\\n",
       "0       Korir, Wesley                              1   \n",
       "1  Mercier, Christian                              1   \n",
       "2  Boudalia, Said Sr.                              1   \n",
       "3      Deba, Buzunesh                              1   \n",
       "4       Ayr, Jason M.                              1   \n",
       "\n",
       "   time_difference_20162017_sign sign_count  \n",
       "0                              1             \n",
       "1                              1             \n",
       "2                              1             \n",
       "3                             -1             \n",
       "4                             -1             "
      ]
     },
     "execution_count": 57,
     "metadata": {},
     "output_type": "execute_result"
    }
   ],
   "source": [
    "runnertime_df['sign_count'] = runnertime_df.apply(lambda _: '', axis=1)\n",
    "runnertime_df.head()"
   ]
  },
  {
   "cell_type": "code",
   "execution_count": 65,
   "metadata": {},
   "outputs": [
    {
     "data": {
      "text/html": [
       "<div>\n",
       "<style scoped>\n",
       "    .dataframe tbody tr th:only-of-type {\n",
       "        vertical-align: middle;\n",
       "    }\n",
       "\n",
       "    .dataframe tbody tr th {\n",
       "        vertical-align: top;\n",
       "    }\n",
       "\n",
       "    .dataframe thead th {\n",
       "        text-align: right;\n",
       "    }\n",
       "</style>\n",
       "<table border=\"1\" class=\"dataframe\">\n",
       "  <thead>\n",
       "    <tr style=\"text-align: right;\">\n",
       "      <th></th>\n",
       "      <th>Name</th>\n",
       "      <th>time_difference_20152016_sign</th>\n",
       "      <th>time_difference_20162017_sign</th>\n",
       "      <th>sign_count</th>\n",
       "      <th>time_difference_20152017</th>\n",
       "    </tr>\n",
       "  </thead>\n",
       "  <tbody>\n",
       "    <tr>\n",
       "      <th>0</th>\n",
       "      <td>Korir, Wesley</td>\n",
       "      <td>1</td>\n",
       "      <td>1</td>\n",
       "      <td>2</td>\n",
       "      <td>2</td>\n",
       "    </tr>\n",
       "    <tr>\n",
       "      <th>1</th>\n",
       "      <td>Mercier, Christian</td>\n",
       "      <td>1</td>\n",
       "      <td>1</td>\n",
       "      <td>2</td>\n",
       "      <td>2</td>\n",
       "    </tr>\n",
       "    <tr>\n",
       "      <th>2</th>\n",
       "      <td>Boudalia, Said Sr.</td>\n",
       "      <td>1</td>\n",
       "      <td>1</td>\n",
       "      <td>2</td>\n",
       "      <td>2</td>\n",
       "    </tr>\n",
       "    <tr>\n",
       "      <th>3</th>\n",
       "      <td>Deba, Buzunesh</td>\n",
       "      <td>1</td>\n",
       "      <td>-1</td>\n",
       "      <td>0</td>\n",
       "      <td>0</td>\n",
       "    </tr>\n",
       "    <tr>\n",
       "      <th>4</th>\n",
       "      <td>Ayr, Jason M.</td>\n",
       "      <td>1</td>\n",
       "      <td>-1</td>\n",
       "      <td>0</td>\n",
       "      <td>0</td>\n",
       "    </tr>\n",
       "  </tbody>\n",
       "</table>\n",
       "</div>"
      ],
      "text/plain": [
       "                 Name  time_difference_20152016_sign  \\\n",
       "0       Korir, Wesley                              1   \n",
       "1  Mercier, Christian                              1   \n",
       "2  Boudalia, Said Sr.                              1   \n",
       "3      Deba, Buzunesh                              1   \n",
       "4       Ayr, Jason M.                              1   \n",
       "\n",
       "   time_difference_20162017_sign  sign_count  time_difference_20152017  \n",
       "0                              1           2                         2  \n",
       "1                              1           2                         2  \n",
       "2                              1           2                         2  \n",
       "3                             -1           0                         0  \n",
       "4                             -1           0                         0  "
      ]
     },
     "execution_count": 65,
     "metadata": {},
     "output_type": "execute_result"
    }
   ],
   "source": [
    "runnertime_df[\"sign_count\"] = runnertime_df[\"time_difference_20152016_sign\"] + runnertime_df[\"time_difference_20162017_sign\"]\n",
    "runnertime_df.head()"
   ]
  },
  {
   "cell_type": "code",
   "execution_count": 67,
   "metadata": {},
   "outputs": [
    {
     "data": {
      "text/html": [
       "<div>\n",
       "<style scoped>\n",
       "    .dataframe tbody tr th:only-of-type {\n",
       "        vertical-align: middle;\n",
       "    }\n",
       "\n",
       "    .dataframe tbody tr th {\n",
       "        vertical-align: top;\n",
       "    }\n",
       "\n",
       "    .dataframe thead th {\n",
       "        text-align: right;\n",
       "    }\n",
       "</style>\n",
       "<table border=\"1\" class=\"dataframe\">\n",
       "  <thead>\n",
       "    <tr style=\"text-align: right;\">\n",
       "      <th></th>\n",
       "      <th></th>\n",
       "      <th>sign_count</th>\n",
       "    </tr>\n",
       "    <tr>\n",
       "      <th>Name</th>\n",
       "      <th>sign_count</th>\n",
       "      <th></th>\n",
       "    </tr>\n",
       "  </thead>\n",
       "  <tbody>\n",
       "    <tr>\n",
       "      <th>Abanses, Jolene C</th>\n",
       "      <th>0</th>\n",
       "      <td>1</td>\n",
       "    </tr>\n",
       "    <tr>\n",
       "      <th>Abber, Tracy</th>\n",
       "      <th>1</th>\n",
       "      <td>1</td>\n",
       "    </tr>\n",
       "    <tr>\n",
       "      <th>Abbott, Wendy</th>\n",
       "      <th>-1</th>\n",
       "      <td>1</td>\n",
       "    </tr>\n",
       "    <tr>\n",
       "      <th>Abdallah, Michael A</th>\n",
       "      <th>0</th>\n",
       "      <td>1</td>\n",
       "    </tr>\n",
       "    <tr>\n",
       "      <th>Abitbol, Matthew</th>\n",
       "      <th>0</th>\n",
       "      <td>1</td>\n",
       "    </tr>\n",
       "  </tbody>\n",
       "</table>\n",
       "</div>"
      ],
      "text/plain": [
       "                                sign_count\n",
       "Name                sign_count            \n",
       "Abanses, Jolene C    0                   1\n",
       "Abber, Tracy         1                   1\n",
       "Abbott, Wendy       -1                   1\n",
       "Abdallah, Michael A  0                   1\n",
       "Abitbol, Matthew     0                   1"
      ]
     },
     "execution_count": 67,
     "metadata": {},
     "output_type": "execute_result"
    }
   ],
   "source": [
    "runnertime_df['sign_count'] = np.sign(runnertime_df.sign_count)\n",
    "runnertime_grouped_df=pd.DataFrame(runnertime_df.groupby('Name').sign_count.value_counts())\n",
    "runnertime_grouped_df.head(5)"
   ]
  },
  {
   "cell_type": "code",
   "execution_count": 69,
   "metadata": {},
   "outputs": [
    {
     "data": {
      "text/plain": [
       " 0    1252\n",
       " 1    1060\n",
       "-1     185\n",
       "Name: sign_count, dtype: int64"
      ]
     },
     "execution_count": 69,
     "metadata": {},
     "output_type": "execute_result"
    }
   ],
   "source": [
    "pos_neg_df = runnertime_df['sign_count'].value_counts()\n",
    "pos_neg_df.head()"
   ]
  },
  {
   "cell_type": "code",
   "execution_count": 78,
   "metadata": {},
   "outputs": [
    {
     "data": {
      "text/plain": [
       "Text(0.5,1,'Runner Time for 2015&2016&2017')"
      ]
     },
     "execution_count": 78,
     "metadata": {},
     "output_type": "execute_result"
    },
    {
     "data": {
      "image/png": "[encoded data removed]",
      "text/plain": [
       "<Figure size 432x288 with 1 Axes>"
      ]
     },
     "metadata": {},
     "output_type": "display_data"
    }
   ],
   "source": [
    "labels = [ \"Not Improved\",\"Improved\",\"Other\"]\n",
    "sizes = [1060, 185,1252 ]\n",
    "colors = [\"goldenrod\",\"navy\", \"orangered\"]\n",
    "explode = (0.1, 0, 0)\n",
    "plt.axis(\"equal\")\n",
    "plt.pie(sizes, explode=explode, labels=labels, colors=colors,\n",
    "        autopct=\"%1.1f%%\", shadow=True, startangle=140)\n",
    "plt.title(\"Runner Time for 2015&2016&2017\")\n"
   ]
  },
  {
   "cell_type": "code",
   "execution_count": null,
   "metadata": {},
   "outputs": [],
   "source": []
  }
 ],
 "metadata": {
  "kernelspec": {
   "display_name": "Python 3",
   "language": "python",
   "name": "python3"
  },
  "language_info": {
   "codemirror_mode": {
    "name": "ipython",
    "version": 3
   },
   "file_extension": ".py",
   "mimetype": "text/x-python",
   "name": "python",
   "nbconvert_exporter": "python",
   "pygments_lexer": "ipython3",
   "version": "3.6.5"
  }
 },
 "nbformat": 4,
 "nbformat_minor": 2
}
